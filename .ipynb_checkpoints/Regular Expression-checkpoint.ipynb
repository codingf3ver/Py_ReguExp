{
 "cells": [
  {
   "cell_type": "markdown",
   "metadata": {},
   "source": [
    "<H1><CENTER><u>REGULAR EXPRESSION </u></CENTER></H1>"
   ]
  },
  {
   "cell_type": "markdown",
   "metadata": {},
   "source": [
    "<h2>Metacharacters </h2>\n",
    "<br>[1]&nbsp; '^' &nbsp; ----> For not including the character[^abc] e.g -->abcdef --> def </br>\n",
    "<br>[2]&nbsp; '$' &nbsp; ----> For finding at the end of string \\$b e.g -->cab </br>\n",
    "<br>[3]&nbsp; '*' &nbsp; ----> For finding zero or more characters  </br>\n",
    "<br>[4]&nbsp; '+' &nbsp; ----> For finding at least one or more characters e.g--> ba+t --> bat (1,'a')</br>\n",
    "<br>[5]&nbsp; '?' &nbsp; ----> For finding once or zero times e.g -->home-?grown -->homegrown or home-grown </br>\n",
    "<br>[6]&nbsp; '{ }' &nbsp; ----> For finding from a certain number of times e.g \\d{3} -->123  </br>\n",
    "<br>[7]&nbsp; '[ ]' &nbsp; ----> Living a set of charater to. folow certain rule e.g [a-d] -->[ad]</br>\n",
    "<br>[8]&nbsp; '\\' &nbsp; ----> For escaping the chracter e.g--> \\. or \\\\-->. or \\</br>\n",
    "<br>[9]&nbsp; '|' &nbsp; ---->  Chosing any one of the gven string e.g --> a\\b-->a or b </br>\n",
    "<br>[10]&nbsp;'( )' &nbsp; ----> Capturing group e.g method(al/pple)-->mehtod(captures 'pple')  </br>\n",
    "<br>[11]&nbsp; '.' &nbsp;----> Any chracter except newline e.g--->a.b-->ab</br>\n"
   ]
  },
  {
   "cell_type": "markdown",
   "metadata": {},
   "source": [
    "<br>[1] \\d Matches any decimal digit; this is equivalent to the class [0-9].</br>\n",
    "\n",
    "<br>[2] \\D Matches any non-digit character; this is equivalent to the class [^0-9].</br>\n",
    "\n",
    "<br>[3] \\s Matches any whitespace character; this is equivalent to the class [ \\t\\n\\r\\f\\v].</br>\n",
    "\n",
    "<br>[4] \\S Matches any non-whitespace character; this is equivalent to the class [^ \\t\\n\\r\\f\\v].</br>\n",
    "\n",
    "<br>[5] \\w Matches any alphanumeric character; this is equivalent to the class [a-zA-Z0-9_].</br>\n",
    "\n",
    "<br>[6] \\W Matches any non-alphanumeric character; this is equivalent to the class [^a-zA-Z0-9_].</br>\n",
    "\n"
   ]
  },
  {
   "cell_type": "markdown",
   "metadata": {},
   "source": [
    "# Metacharacters"
   ]
  },
  {
   "cell_type": "code",
   "execution_count": 1,
   "metadata": {},
   "outputs": [],
   "source": [
    "import re"
   ]
  },
  {
   "cell_type": "code",
   "execution_count": 2,
   "metadata": {},
   "outputs": [
    {
     "name": "stdout",
     "output_type": "stream",
     "text": [
      "This is my push into git hub\n"
     ]
    }
   ],
   "source": [
    "print('This is my push into git hub')"
   ]
  },
  {
   "cell_type": "code",
   "execution_count": 3,
   "metadata": {},
   "outputs": [],
   "source": [
    "text='''957-205-3921\n",
    "897.427.6721\n",
    "465-465-7861\n",
    "abcdefghijklmnopqrstuvwxyz\n",
    "ABCDEFGHIJKLMNOPQRSTUVWXYZ\n",
    "1234567890\n",
    "hedge hell hello ollhe\n",
    "mdtau786@gmail.com\n",
    "\n",
    "'''"
   ]
  },
  {
   "cell_type": "code",
   "execution_count": 4,
   "metadata": {},
   "outputs": [
    {
     "name": "stdout",
     "output_type": "stream",
     "text": [
      "<re.Match object; span=(0, 1), match='9'>\n",
      "<re.Match object; span=(1, 2), match='5'>\n",
      "<re.Match object; span=(2, 3), match='7'>\n",
      "<re.Match object; span=(3, 4), match='-'>\n",
      "<re.Match object; span=(4, 5), match='2'>\n",
      "<re.Match object; span=(5, 6), match='0'>\n",
      "<re.Match object; span=(6, 7), match='5'>\n",
      "<re.Match object; span=(7, 8), match='-'>\n",
      "<re.Match object; span=(8, 9), match='3'>\n",
      "<re.Match object; span=(9, 10), match='9'>\n",
      "<re.Match object; span=(10, 11), match='2'>\n",
      "<re.Match object; span=(11, 12), match='1'>\n",
      "<re.Match object; span=(13, 14), match='8'>\n",
      "<re.Match object; span=(14, 15), match='9'>\n",
      "<re.Match object; span=(15, 16), match='7'>\n",
      "<re.Match object; span=(16, 17), match='.'>\n",
      "<re.Match object; span=(17, 18), match='4'>\n",
      "<re.Match object; span=(18, 19), match='2'>\n",
      "<re.Match object; span=(19, 20), match='7'>\n",
      "<re.Match object; span=(20, 21), match='.'>\n",
      "<re.Match object; span=(21, 22), match='6'>\n",
      "<re.Match object; span=(22, 23), match='7'>\n",
      "<re.Match object; span=(23, 24), match='2'>\n",
      "<re.Match object; span=(24, 25), match='1'>\n",
      "<re.Match object; span=(26, 27), match='4'>\n",
      "<re.Match object; span=(27, 28), match='6'>\n",
      "<re.Match object; span=(28, 29), match='5'>\n",
      "<re.Match object; span=(29, 30), match='-'>\n",
      "<re.Match object; span=(30, 31), match='4'>\n",
      "<re.Match object; span=(31, 32), match='6'>\n",
      "<re.Match object; span=(32, 33), match='5'>\n",
      "<re.Match object; span=(33, 34), match='-'>\n",
      "<re.Match object; span=(34, 35), match='7'>\n",
      "<re.Match object; span=(35, 36), match='8'>\n",
      "<re.Match object; span=(36, 37), match='6'>\n",
      "<re.Match object; span=(37, 38), match='1'>\n",
      "<re.Match object; span=(39, 40), match='a'>\n",
      "<re.Match object; span=(40, 41), match='b'>\n",
      "<re.Match object; span=(41, 42), match='c'>\n",
      "<re.Match object; span=(42, 43), match='d'>\n",
      "<re.Match object; span=(43, 44), match='e'>\n",
      "<re.Match object; span=(44, 45), match='f'>\n",
      "<re.Match object; span=(45, 46), match='g'>\n",
      "<re.Match object; span=(46, 47), match='h'>\n",
      "<re.Match object; span=(47, 48), match='i'>\n",
      "<re.Match object; span=(48, 49), match='j'>\n",
      "<re.Match object; span=(49, 50), match='k'>\n",
      "<re.Match object; span=(50, 51), match='l'>\n",
      "<re.Match object; span=(51, 52), match='m'>\n",
      "<re.Match object; span=(52, 53), match='n'>\n",
      "<re.Match object; span=(53, 54), match='o'>\n",
      "<re.Match object; span=(54, 55), match='p'>\n",
      "<re.Match object; span=(55, 56), match='q'>\n",
      "<re.Match object; span=(56, 57), match='r'>\n",
      "<re.Match object; span=(57, 58), match='s'>\n",
      "<re.Match object; span=(58, 59), match='t'>\n",
      "<re.Match object; span=(59, 60), match='u'>\n",
      "<re.Match object; span=(60, 61), match='v'>\n",
      "<re.Match object; span=(61, 62), match='w'>\n",
      "<re.Match object; span=(62, 63), match='x'>\n",
      "<re.Match object; span=(63, 64), match='y'>\n",
      "<re.Match object; span=(64, 65), match='z'>\n",
      "<re.Match object; span=(66, 67), match='A'>\n",
      "<re.Match object; span=(67, 68), match='B'>\n",
      "<re.Match object; span=(68, 69), match='C'>\n",
      "<re.Match object; span=(69, 70), match='D'>\n",
      "<re.Match object; span=(70, 71), match='E'>\n",
      "<re.Match object; span=(71, 72), match='F'>\n",
      "<re.Match object; span=(72, 73), match='G'>\n",
      "<re.Match object; span=(73, 74), match='H'>\n",
      "<re.Match object; span=(74, 75), match='I'>\n",
      "<re.Match object; span=(75, 76), match='J'>\n",
      "<re.Match object; span=(76, 77), match='K'>\n",
      "<re.Match object; span=(77, 78), match='L'>\n",
      "<re.Match object; span=(78, 79), match='M'>\n",
      "<re.Match object; span=(79, 80), match='N'>\n",
      "<re.Match object; span=(80, 81), match='O'>\n",
      "<re.Match object; span=(81, 82), match='P'>\n",
      "<re.Match object; span=(82, 83), match='Q'>\n",
      "<re.Match object; span=(83, 84), match='R'>\n",
      "<re.Match object; span=(84, 85), match='S'>\n",
      "<re.Match object; span=(85, 86), match='T'>\n",
      "<re.Match object; span=(86, 87), match='U'>\n",
      "<re.Match object; span=(87, 88), match='V'>\n",
      "<re.Match object; span=(88, 89), match='W'>\n",
      "<re.Match object; span=(89, 90), match='X'>\n",
      "<re.Match object; span=(90, 91), match='Y'>\n",
      "<re.Match object; span=(91, 92), match='Z'>\n",
      "<re.Match object; span=(93, 94), match='1'>\n",
      "<re.Match object; span=(94, 95), match='2'>\n",
      "<re.Match object; span=(95, 96), match='3'>\n",
      "<re.Match object; span=(96, 97), match='4'>\n",
      "<re.Match object; span=(97, 98), match='5'>\n",
      "<re.Match object; span=(98, 99), match='6'>\n",
      "<re.Match object; span=(99, 100), match='7'>\n",
      "<re.Match object; span=(100, 101), match='8'>\n",
      "<re.Match object; span=(101, 102), match='9'>\n",
      "<re.Match object; span=(102, 103), match='0'>\n",
      "<re.Match object; span=(104, 105), match='h'>\n",
      "<re.Match object; span=(105, 106), match='e'>\n",
      "<re.Match object; span=(106, 107), match='d'>\n",
      "<re.Match object; span=(107, 108), match='g'>\n",
      "<re.Match object; span=(108, 109), match='e'>\n",
      "<re.Match object; span=(109, 110), match=' '>\n",
      "<re.Match object; span=(110, 111), match='h'>\n",
      "<re.Match object; span=(111, 112), match='e'>\n",
      "<re.Match object; span=(112, 113), match='l'>\n",
      "<re.Match object; span=(113, 114), match='l'>\n",
      "<re.Match object; span=(114, 115), match=' '>\n",
      "<re.Match object; span=(115, 116), match='h'>\n",
      "<re.Match object; span=(116, 117), match='e'>\n",
      "<re.Match object; span=(117, 118), match='l'>\n",
      "<re.Match object; span=(118, 119), match='l'>\n",
      "<re.Match object; span=(119, 120), match='o'>\n",
      "<re.Match object; span=(120, 121), match=' '>\n",
      "<re.Match object; span=(121, 122), match='o'>\n",
      "<re.Match object; span=(122, 123), match='l'>\n",
      "<re.Match object; span=(123, 124), match='l'>\n",
      "<re.Match object; span=(124, 125), match='h'>\n",
      "<re.Match object; span=(125, 126), match='e'>\n",
      "<re.Match object; span=(127, 128), match='m'>\n",
      "<re.Match object; span=(128, 129), match='d'>\n",
      "<re.Match object; span=(129, 130), match='t'>\n",
      "<re.Match object; span=(130, 131), match='a'>\n",
      "<re.Match object; span=(131, 132), match='u'>\n",
      "<re.Match object; span=(132, 133), match='7'>\n",
      "<re.Match object; span=(133, 134), match='8'>\n",
      "<re.Match object; span=(134, 135), match='6'>\n",
      "<re.Match object; span=(135, 136), match='@'>\n",
      "<re.Match object; span=(136, 137), match='g'>\n",
      "<re.Match object; span=(137, 138), match='m'>\n",
      "<re.Match object; span=(138, 139), match='a'>\n",
      "<re.Match object; span=(139, 140), match='i'>\n",
      "<re.Match object; span=(140, 141), match='l'>\n",
      "<re.Match object; span=(141, 142), match='.'>\n",
      "<re.Match object; span=(142, 143), match='c'>\n",
      "<re.Match object; span=(143, 144), match='o'>\n",
      "<re.Match object; span=(144, 145), match='m'>\n"
     ]
    }
   ],
   "source": [
    "#match everything other than newline\n",
    "pattern_2=re.compile(r'.') \n",
    "for match in pattern_2.finditer(text):\n",
    "      print(match)"
   ]
  },
  {
   "cell_type": "code",
   "execution_count": 5,
   "metadata": {},
   "outputs": [
    {
     "name": "stdout",
     "output_type": "stream",
     "text": [
      "<re.Match object; span=(0, 1), match='9'>\n",
      "<re.Match object; span=(1, 2), match='5'>\n",
      "<re.Match object; span=(2, 3), match='7'>\n",
      "<re.Match object; span=(3, 4), match='-'>\n",
      "<re.Match object; span=(4, 5), match='2'>\n",
      "<re.Match object; span=(5, 6), match='0'>\n",
      "<re.Match object; span=(6, 7), match='5'>\n",
      "<re.Match object; span=(7, 8), match='-'>\n",
      "<re.Match object; span=(8, 9), match='3'>\n",
      "<re.Match object; span=(9, 10), match='9'>\n",
      "<re.Match object; span=(10, 11), match='2'>\n",
      "<re.Match object; span=(11, 12), match='1'>\n",
      "<re.Match object; span=(13, 14), match='8'>\n",
      "<re.Match object; span=(14, 15), match='9'>\n",
      "<re.Match object; span=(15, 16), match='7'>\n",
      "<re.Match object; span=(16, 17), match='.'>\n",
      "<re.Match object; span=(17, 18), match='4'>\n",
      "<re.Match object; span=(18, 19), match='2'>\n",
      "<re.Match object; span=(19, 20), match='7'>\n",
      "<re.Match object; span=(20, 21), match='.'>\n",
      "<re.Match object; span=(21, 22), match='6'>\n",
      "<re.Match object; span=(22, 23), match='7'>\n",
      "<re.Match object; span=(23, 24), match='2'>\n",
      "<re.Match object; span=(24, 25), match='1'>\n",
      "<re.Match object; span=(26, 27), match='4'>\n",
      "<re.Match object; span=(27, 28), match='6'>\n",
      "<re.Match object; span=(28, 29), match='5'>\n",
      "<re.Match object; span=(29, 30), match='-'>\n",
      "<re.Match object; span=(30, 31), match='4'>\n",
      "<re.Match object; span=(31, 32), match='6'>\n",
      "<re.Match object; span=(32, 33), match='5'>\n",
      "<re.Match object; span=(33, 34), match='-'>\n",
      "<re.Match object; span=(34, 35), match='7'>\n",
      "<re.Match object; span=(35, 36), match='8'>\n",
      "<re.Match object; span=(36, 37), match='6'>\n",
      "<re.Match object; span=(37, 38), match='1'>\n",
      "<re.Match object; span=(39, 40), match='a'>\n",
      "<re.Match object; span=(40, 41), match='b'>\n",
      "<re.Match object; span=(41, 42), match='c'>\n",
      "<re.Match object; span=(42, 43), match='d'>\n",
      "<re.Match object; span=(43, 44), match='e'>\n",
      "<re.Match object; span=(44, 45), match='f'>\n",
      "<re.Match object; span=(45, 46), match='g'>\n",
      "<re.Match object; span=(46, 47), match='h'>\n",
      "<re.Match object; span=(47, 48), match='i'>\n",
      "<re.Match object; span=(48, 49), match='j'>\n",
      "<re.Match object; span=(49, 50), match='k'>\n",
      "<re.Match object; span=(50, 51), match='l'>\n",
      "<re.Match object; span=(51, 52), match='m'>\n",
      "<re.Match object; span=(52, 53), match='n'>\n",
      "<re.Match object; span=(53, 54), match='o'>\n",
      "<re.Match object; span=(54, 55), match='p'>\n",
      "<re.Match object; span=(55, 56), match='q'>\n",
      "<re.Match object; span=(56, 57), match='r'>\n",
      "<re.Match object; span=(57, 58), match='s'>\n",
      "<re.Match object; span=(58, 59), match='t'>\n",
      "<re.Match object; span=(59, 60), match='u'>\n",
      "<re.Match object; span=(60, 61), match='v'>\n",
      "<re.Match object; span=(61, 62), match='w'>\n",
      "<re.Match object; span=(62, 63), match='x'>\n",
      "<re.Match object; span=(63, 64), match='y'>\n",
      "<re.Match object; span=(64, 65), match='z'>\n",
      "<re.Match object; span=(66, 67), match='A'>\n",
      "<re.Match object; span=(67, 68), match='B'>\n",
      "<re.Match object; span=(68, 69), match='C'>\n",
      "<re.Match object; span=(69, 70), match='D'>\n",
      "<re.Match object; span=(70, 71), match='E'>\n",
      "<re.Match object; span=(71, 72), match='F'>\n",
      "<re.Match object; span=(72, 73), match='G'>\n",
      "<re.Match object; span=(73, 74), match='H'>\n",
      "<re.Match object; span=(74, 75), match='I'>\n",
      "<re.Match object; span=(75, 76), match='J'>\n",
      "<re.Match object; span=(76, 77), match='K'>\n",
      "<re.Match object; span=(77, 78), match='L'>\n",
      "<re.Match object; span=(78, 79), match='M'>\n",
      "<re.Match object; span=(79, 80), match='N'>\n",
      "<re.Match object; span=(80, 81), match='O'>\n",
      "<re.Match object; span=(81, 82), match='P'>\n",
      "<re.Match object; span=(82, 83), match='Q'>\n",
      "<re.Match object; span=(83, 84), match='R'>\n",
      "<re.Match object; span=(84, 85), match='S'>\n",
      "<re.Match object; span=(85, 86), match='T'>\n",
      "<re.Match object; span=(86, 87), match='U'>\n",
      "<re.Match object; span=(87, 88), match='V'>\n",
      "<re.Match object; span=(88, 89), match='W'>\n",
      "<re.Match object; span=(89, 90), match='X'>\n",
      "<re.Match object; span=(90, 91), match='Y'>\n",
      "<re.Match object; span=(91, 92), match='Z'>\n",
      "<re.Match object; span=(93, 94), match='1'>\n",
      "<re.Match object; span=(94, 95), match='2'>\n",
      "<re.Match object; span=(95, 96), match='3'>\n",
      "<re.Match object; span=(96, 97), match='4'>\n",
      "<re.Match object; span=(97, 98), match='5'>\n",
      "<re.Match object; span=(98, 99), match='6'>\n",
      "<re.Match object; span=(99, 100), match='7'>\n",
      "<re.Match object; span=(100, 101), match='8'>\n",
      "<re.Match object; span=(101, 102), match='9'>\n",
      "<re.Match object; span=(102, 103), match='0'>\n",
      "<re.Match object; span=(104, 105), match='h'>\n",
      "<re.Match object; span=(105, 106), match='e'>\n",
      "<re.Match object; span=(106, 107), match='d'>\n",
      "<re.Match object; span=(107, 108), match='g'>\n",
      "<re.Match object; span=(108, 109), match='e'>\n",
      "<re.Match object; span=(109, 110), match=' '>\n",
      "<re.Match object; span=(110, 111), match='h'>\n",
      "<re.Match object; span=(111, 112), match='e'>\n",
      "<re.Match object; span=(112, 113), match='l'>\n",
      "<re.Match object; span=(113, 114), match='l'>\n",
      "<re.Match object; span=(114, 115), match=' '>\n",
      "<re.Match object; span=(115, 116), match='h'>\n",
      "<re.Match object; span=(116, 117), match='e'>\n",
      "<re.Match object; span=(117, 118), match='l'>\n",
      "<re.Match object; span=(118, 119), match='l'>\n",
      "<re.Match object; span=(119, 120), match='o'>\n",
      "<re.Match object; span=(120, 121), match=' '>\n",
      "<re.Match object; span=(121, 122), match='o'>\n",
      "<re.Match object; span=(122, 123), match='l'>\n",
      "<re.Match object; span=(123, 124), match='l'>\n",
      "<re.Match object; span=(124, 125), match='h'>\n",
      "<re.Match object; span=(125, 126), match='e'>\n",
      "<re.Match object; span=(127, 128), match='m'>\n",
      "<re.Match object; span=(128, 129), match='d'>\n",
      "<re.Match object; span=(129, 130), match='t'>\n",
      "<re.Match object; span=(130, 131), match='a'>\n",
      "<re.Match object; span=(131, 132), match='u'>\n",
      "<re.Match object; span=(132, 133), match='7'>\n",
      "<re.Match object; span=(133, 134), match='8'>\n",
      "<re.Match object; span=(134, 135), match='6'>\n",
      "<re.Match object; span=(135, 136), match='@'>\n",
      "<re.Match object; span=(136, 137), match='g'>\n",
      "<re.Match object; span=(137, 138), match='m'>\n",
      "<re.Match object; span=(138, 139), match='a'>\n",
      "<re.Match object; span=(139, 140), match='i'>\n",
      "<re.Match object; span=(140, 141), match='l'>\n",
      "<re.Match object; span=(141, 142), match='.'>\n",
      "<re.Match object; span=(142, 143), match='c'>\n",
      "<re.Match object; span=(143, 144), match='o'>\n",
      "<re.Match object; span=(144, 145), match='m'>\n"
     ]
    }
   ],
   "source": [
    "#Only digits\n",
    "pattern_3=re.compile(r'\\d') \n",
    "for match in pattern_2.finditer(text):\n",
    "      print(match)"
   ]
  },
  {
   "cell_type": "code",
   "execution_count": 6,
   "metadata": {},
   "outputs": [
    {
     "name": "stdout",
     "output_type": "stream",
     "text": [
      "<re.Match object; span=(3, 4), match='-'>\n",
      "<re.Match object; span=(7, 8), match='-'>\n",
      "<re.Match object; span=(12, 13), match='\\n'>\n",
      "<re.Match object; span=(16, 17), match='.'>\n",
      "<re.Match object; span=(20, 21), match='.'>\n",
      "<re.Match object; span=(25, 26), match='\\n'>\n",
      "<re.Match object; span=(29, 30), match='-'>\n",
      "<re.Match object; span=(33, 34), match='-'>\n",
      "<re.Match object; span=(38, 39), match='\\n'>\n",
      "<re.Match object; span=(39, 40), match='a'>\n",
      "<re.Match object; span=(40, 41), match='b'>\n",
      "<re.Match object; span=(41, 42), match='c'>\n",
      "<re.Match object; span=(42, 43), match='d'>\n",
      "<re.Match object; span=(43, 44), match='e'>\n",
      "<re.Match object; span=(44, 45), match='f'>\n",
      "<re.Match object; span=(45, 46), match='g'>\n",
      "<re.Match object; span=(46, 47), match='h'>\n",
      "<re.Match object; span=(47, 48), match='i'>\n",
      "<re.Match object; span=(48, 49), match='j'>\n",
      "<re.Match object; span=(49, 50), match='k'>\n",
      "<re.Match object; span=(50, 51), match='l'>\n",
      "<re.Match object; span=(51, 52), match='m'>\n",
      "<re.Match object; span=(52, 53), match='n'>\n",
      "<re.Match object; span=(53, 54), match='o'>\n",
      "<re.Match object; span=(54, 55), match='p'>\n",
      "<re.Match object; span=(55, 56), match='q'>\n",
      "<re.Match object; span=(56, 57), match='r'>\n",
      "<re.Match object; span=(57, 58), match='s'>\n",
      "<re.Match object; span=(58, 59), match='t'>\n",
      "<re.Match object; span=(59, 60), match='u'>\n",
      "<re.Match object; span=(60, 61), match='v'>\n",
      "<re.Match object; span=(61, 62), match='w'>\n",
      "<re.Match object; span=(62, 63), match='x'>\n",
      "<re.Match object; span=(63, 64), match='y'>\n",
      "<re.Match object; span=(64, 65), match='z'>\n",
      "<re.Match object; span=(65, 66), match='\\n'>\n",
      "<re.Match object; span=(66, 67), match='A'>\n",
      "<re.Match object; span=(67, 68), match='B'>\n",
      "<re.Match object; span=(68, 69), match='C'>\n",
      "<re.Match object; span=(69, 70), match='D'>\n",
      "<re.Match object; span=(70, 71), match='E'>\n",
      "<re.Match object; span=(71, 72), match='F'>\n",
      "<re.Match object; span=(72, 73), match='G'>\n",
      "<re.Match object; span=(73, 74), match='H'>\n",
      "<re.Match object; span=(74, 75), match='I'>\n",
      "<re.Match object; span=(75, 76), match='J'>\n",
      "<re.Match object; span=(76, 77), match='K'>\n",
      "<re.Match object; span=(77, 78), match='L'>\n",
      "<re.Match object; span=(78, 79), match='M'>\n",
      "<re.Match object; span=(79, 80), match='N'>\n",
      "<re.Match object; span=(80, 81), match='O'>\n",
      "<re.Match object; span=(81, 82), match='P'>\n",
      "<re.Match object; span=(82, 83), match='Q'>\n",
      "<re.Match object; span=(83, 84), match='R'>\n",
      "<re.Match object; span=(84, 85), match='S'>\n",
      "<re.Match object; span=(85, 86), match='T'>\n",
      "<re.Match object; span=(86, 87), match='U'>\n",
      "<re.Match object; span=(87, 88), match='V'>\n",
      "<re.Match object; span=(88, 89), match='W'>\n",
      "<re.Match object; span=(89, 90), match='X'>\n",
      "<re.Match object; span=(90, 91), match='Y'>\n",
      "<re.Match object; span=(91, 92), match='Z'>\n",
      "<re.Match object; span=(92, 93), match='\\n'>\n",
      "<re.Match object; span=(103, 104), match='\\n'>\n",
      "<re.Match object; span=(104, 105), match='h'>\n",
      "<re.Match object; span=(105, 106), match='e'>\n",
      "<re.Match object; span=(106, 107), match='d'>\n",
      "<re.Match object; span=(107, 108), match='g'>\n",
      "<re.Match object; span=(108, 109), match='e'>\n",
      "<re.Match object; span=(109, 110), match=' '>\n",
      "<re.Match object; span=(110, 111), match='h'>\n",
      "<re.Match object; span=(111, 112), match='e'>\n",
      "<re.Match object; span=(112, 113), match='l'>\n",
      "<re.Match object; span=(113, 114), match='l'>\n",
      "<re.Match object; span=(114, 115), match=' '>\n",
      "<re.Match object; span=(115, 116), match='h'>\n",
      "<re.Match object; span=(116, 117), match='e'>\n",
      "<re.Match object; span=(117, 118), match='l'>\n",
      "<re.Match object; span=(118, 119), match='l'>\n",
      "<re.Match object; span=(119, 120), match='o'>\n",
      "<re.Match object; span=(120, 121), match=' '>\n",
      "<re.Match object; span=(121, 122), match='o'>\n",
      "<re.Match object; span=(122, 123), match='l'>\n",
      "<re.Match object; span=(123, 124), match='l'>\n",
      "<re.Match object; span=(124, 125), match='h'>\n",
      "<re.Match object; span=(125, 126), match='e'>\n",
      "<re.Match object; span=(126, 127), match='\\n'>\n",
      "<re.Match object; span=(127, 128), match='m'>\n",
      "<re.Match object; span=(128, 129), match='d'>\n",
      "<re.Match object; span=(129, 130), match='t'>\n",
      "<re.Match object; span=(130, 131), match='a'>\n",
      "<re.Match object; span=(131, 132), match='u'>\n",
      "<re.Match object; span=(135, 136), match='@'>\n",
      "<re.Match object; span=(136, 137), match='g'>\n",
      "<re.Match object; span=(137, 138), match='m'>\n",
      "<re.Match object; span=(138, 139), match='a'>\n",
      "<re.Match object; span=(139, 140), match='i'>\n",
      "<re.Match object; span=(140, 141), match='l'>\n",
      "<re.Match object; span=(141, 142), match='.'>\n",
      "<re.Match object; span=(142, 143), match='c'>\n",
      "<re.Match object; span=(143, 144), match='o'>\n",
      "<re.Match object; span=(144, 145), match='m'>\n",
      "<re.Match object; span=(145, 146), match='\\n'>\n",
      "<re.Match object; span=(146, 147), match='\\n'>\n"
     ]
    }
   ],
   "source": [
    "#except digits\n",
    "pattern_4=re.compile(r'\\D') \n",
    "for match in pattern_4.finditer(text):\n",
    "      print(match)"
   ]
  },
  {
   "cell_type": "code",
   "execution_count": 7,
   "metadata": {},
   "outputs": [
    {
     "name": "stdout",
     "output_type": "stream",
     "text": [
      "<re.Match object; span=(0, 1), match='9'>\n",
      "<re.Match object; span=(1, 2), match='5'>\n",
      "<re.Match object; span=(2, 3), match='7'>\n",
      "<re.Match object; span=(4, 5), match='2'>\n",
      "<re.Match object; span=(5, 6), match='0'>\n",
      "<re.Match object; span=(6, 7), match='5'>\n",
      "<re.Match object; span=(8, 9), match='3'>\n",
      "<re.Match object; span=(9, 10), match='9'>\n",
      "<re.Match object; span=(10, 11), match='2'>\n",
      "<re.Match object; span=(11, 12), match='1'>\n",
      "<re.Match object; span=(13, 14), match='8'>\n",
      "<re.Match object; span=(14, 15), match='9'>\n",
      "<re.Match object; span=(15, 16), match='7'>\n",
      "<re.Match object; span=(17, 18), match='4'>\n",
      "<re.Match object; span=(18, 19), match='2'>\n",
      "<re.Match object; span=(19, 20), match='7'>\n",
      "<re.Match object; span=(21, 22), match='6'>\n",
      "<re.Match object; span=(22, 23), match='7'>\n",
      "<re.Match object; span=(23, 24), match='2'>\n",
      "<re.Match object; span=(24, 25), match='1'>\n",
      "<re.Match object; span=(26, 27), match='4'>\n",
      "<re.Match object; span=(27, 28), match='6'>\n",
      "<re.Match object; span=(28, 29), match='5'>\n",
      "<re.Match object; span=(30, 31), match='4'>\n",
      "<re.Match object; span=(31, 32), match='6'>\n",
      "<re.Match object; span=(32, 33), match='5'>\n",
      "<re.Match object; span=(34, 35), match='7'>\n",
      "<re.Match object; span=(35, 36), match='8'>\n",
      "<re.Match object; span=(36, 37), match='6'>\n",
      "<re.Match object; span=(37, 38), match='1'>\n",
      "<re.Match object; span=(39, 40), match='a'>\n",
      "<re.Match object; span=(40, 41), match='b'>\n",
      "<re.Match object; span=(41, 42), match='c'>\n",
      "<re.Match object; span=(42, 43), match='d'>\n",
      "<re.Match object; span=(43, 44), match='e'>\n",
      "<re.Match object; span=(44, 45), match='f'>\n",
      "<re.Match object; span=(45, 46), match='g'>\n",
      "<re.Match object; span=(46, 47), match='h'>\n",
      "<re.Match object; span=(47, 48), match='i'>\n",
      "<re.Match object; span=(48, 49), match='j'>\n",
      "<re.Match object; span=(49, 50), match='k'>\n",
      "<re.Match object; span=(50, 51), match='l'>\n",
      "<re.Match object; span=(51, 52), match='m'>\n",
      "<re.Match object; span=(52, 53), match='n'>\n",
      "<re.Match object; span=(53, 54), match='o'>\n",
      "<re.Match object; span=(54, 55), match='p'>\n",
      "<re.Match object; span=(55, 56), match='q'>\n",
      "<re.Match object; span=(56, 57), match='r'>\n",
      "<re.Match object; span=(57, 58), match='s'>\n",
      "<re.Match object; span=(58, 59), match='t'>\n",
      "<re.Match object; span=(59, 60), match='u'>\n",
      "<re.Match object; span=(60, 61), match='v'>\n",
      "<re.Match object; span=(61, 62), match='w'>\n",
      "<re.Match object; span=(62, 63), match='x'>\n",
      "<re.Match object; span=(63, 64), match='y'>\n",
      "<re.Match object; span=(64, 65), match='z'>\n",
      "<re.Match object; span=(66, 67), match='A'>\n",
      "<re.Match object; span=(67, 68), match='B'>\n",
      "<re.Match object; span=(68, 69), match='C'>\n",
      "<re.Match object; span=(69, 70), match='D'>\n",
      "<re.Match object; span=(70, 71), match='E'>\n",
      "<re.Match object; span=(71, 72), match='F'>\n",
      "<re.Match object; span=(72, 73), match='G'>\n",
      "<re.Match object; span=(73, 74), match='H'>\n",
      "<re.Match object; span=(74, 75), match='I'>\n",
      "<re.Match object; span=(75, 76), match='J'>\n",
      "<re.Match object; span=(76, 77), match='K'>\n",
      "<re.Match object; span=(77, 78), match='L'>\n",
      "<re.Match object; span=(78, 79), match='M'>\n",
      "<re.Match object; span=(79, 80), match='N'>\n",
      "<re.Match object; span=(80, 81), match='O'>\n",
      "<re.Match object; span=(81, 82), match='P'>\n",
      "<re.Match object; span=(82, 83), match='Q'>\n",
      "<re.Match object; span=(83, 84), match='R'>\n",
      "<re.Match object; span=(84, 85), match='S'>\n",
      "<re.Match object; span=(85, 86), match='T'>\n",
      "<re.Match object; span=(86, 87), match='U'>\n",
      "<re.Match object; span=(87, 88), match='V'>\n",
      "<re.Match object; span=(88, 89), match='W'>\n",
      "<re.Match object; span=(89, 90), match='X'>\n",
      "<re.Match object; span=(90, 91), match='Y'>\n",
      "<re.Match object; span=(91, 92), match='Z'>\n",
      "<re.Match object; span=(93, 94), match='1'>\n",
      "<re.Match object; span=(94, 95), match='2'>\n",
      "<re.Match object; span=(95, 96), match='3'>\n",
      "<re.Match object; span=(96, 97), match='4'>\n",
      "<re.Match object; span=(97, 98), match='5'>\n",
      "<re.Match object; span=(98, 99), match='6'>\n",
      "<re.Match object; span=(99, 100), match='7'>\n",
      "<re.Match object; span=(100, 101), match='8'>\n",
      "<re.Match object; span=(101, 102), match='9'>\n",
      "<re.Match object; span=(102, 103), match='0'>\n",
      "<re.Match object; span=(104, 105), match='h'>\n",
      "<re.Match object; span=(105, 106), match='e'>\n",
      "<re.Match object; span=(106, 107), match='d'>\n",
      "<re.Match object; span=(107, 108), match='g'>\n",
      "<re.Match object; span=(108, 109), match='e'>\n",
      "<re.Match object; span=(110, 111), match='h'>\n",
      "<re.Match object; span=(111, 112), match='e'>\n",
      "<re.Match object; span=(112, 113), match='l'>\n",
      "<re.Match object; span=(113, 114), match='l'>\n",
      "<re.Match object; span=(115, 116), match='h'>\n",
      "<re.Match object; span=(116, 117), match='e'>\n",
      "<re.Match object; span=(117, 118), match='l'>\n",
      "<re.Match object; span=(118, 119), match='l'>\n",
      "<re.Match object; span=(119, 120), match='o'>\n",
      "<re.Match object; span=(121, 122), match='o'>\n",
      "<re.Match object; span=(122, 123), match='l'>\n",
      "<re.Match object; span=(123, 124), match='l'>\n",
      "<re.Match object; span=(124, 125), match='h'>\n",
      "<re.Match object; span=(125, 126), match='e'>\n",
      "<re.Match object; span=(127, 128), match='m'>\n",
      "<re.Match object; span=(128, 129), match='d'>\n",
      "<re.Match object; span=(129, 130), match='t'>\n",
      "<re.Match object; span=(130, 131), match='a'>\n",
      "<re.Match object; span=(131, 132), match='u'>\n",
      "<re.Match object; span=(132, 133), match='7'>\n",
      "<re.Match object; span=(133, 134), match='8'>\n",
      "<re.Match object; span=(134, 135), match='6'>\n",
      "<re.Match object; span=(136, 137), match='g'>\n",
      "<re.Match object; span=(137, 138), match='m'>\n",
      "<re.Match object; span=(138, 139), match='a'>\n",
      "<re.Match object; span=(139, 140), match='i'>\n",
      "<re.Match object; span=(140, 141), match='l'>\n",
      "<re.Match object; span=(142, 143), match='c'>\n",
      "<re.Match object; span=(143, 144), match='o'>\n",
      "<re.Match object; span=(144, 145), match='m'>\n"
     ]
    }
   ],
   "source": [
    "#Only alphanumeric chracters\n",
    "pattern_5=re.compile(r'\\w') \n",
    "for match in pattern_5.finditer(text):\n",
    "      print(match)"
   ]
  },
  {
   "cell_type": "code",
   "execution_count": 8,
   "metadata": {},
   "outputs": [
    {
     "name": "stdout",
     "output_type": "stream",
     "text": [
      "<re.Match object; span=(3, 4), match='-'>\n",
      "<re.Match object; span=(7, 8), match='-'>\n",
      "<re.Match object; span=(12, 13), match='\\n'>\n",
      "<re.Match object; span=(16, 17), match='.'>\n",
      "<re.Match object; span=(20, 21), match='.'>\n",
      "<re.Match object; span=(25, 26), match='\\n'>\n",
      "<re.Match object; span=(29, 30), match='-'>\n",
      "<re.Match object; span=(33, 34), match='-'>\n",
      "<re.Match object; span=(38, 39), match='\\n'>\n",
      "<re.Match object; span=(65, 66), match='\\n'>\n",
      "<re.Match object; span=(92, 93), match='\\n'>\n",
      "<re.Match object; span=(103, 104), match='\\n'>\n",
      "<re.Match object; span=(109, 110), match=' '>\n",
      "<re.Match object; span=(114, 115), match=' '>\n",
      "<re.Match object; span=(120, 121), match=' '>\n",
      "<re.Match object; span=(126, 127), match='\\n'>\n",
      "<re.Match object; span=(135, 136), match='@'>\n",
      "<re.Match object; span=(141, 142), match='.'>\n",
      "<re.Match object; span=(145, 146), match='\\n'>\n",
      "<re.Match object; span=(146, 147), match='\\n'>\n"
     ]
    }
   ],
   "source": [
    "#Other than alphanumeric characters\n",
    "pattern_6=re.compile(r'\\W') \n",
    "for match in pattern_6.finditer(text):\n",
    "      print(match)"
   ]
  },
  {
   "cell_type": "code",
   "execution_count": 9,
   "metadata": {},
   "outputs": [
    {
     "name": "stdout",
     "output_type": "stream",
     "text": [
      "<re.Match object; span=(12, 13), match='\\n'>\n",
      "<re.Match object; span=(25, 26), match='\\n'>\n",
      "<re.Match object; span=(38, 39), match='\\n'>\n",
      "<re.Match object; span=(65, 66), match='\\n'>\n",
      "<re.Match object; span=(92, 93), match='\\n'>\n",
      "<re.Match object; span=(103, 104), match='\\n'>\n",
      "<re.Match object; span=(109, 110), match=' '>\n",
      "<re.Match object; span=(114, 115), match=' '>\n",
      "<re.Match object; span=(120, 121), match=' '>\n",
      "<re.Match object; span=(126, 127), match='\\n'>\n",
      "<re.Match object; span=(145, 146), match='\\n'>\n",
      "<re.Match object; span=(146, 147), match='\\n'>\n"
     ]
    }
   ],
   "source": [
    "#Tabs ,newline,space\n",
    "pattern_7=re.compile(r'\\s') \n",
    "for match in pattern_7.finditer(text):\n",
    "      print(match)"
   ]
  },
  {
   "cell_type": "code",
   "execution_count": 10,
   "metadata": {},
   "outputs": [
    {
     "name": "stdout",
     "output_type": "stream",
     "text": [
      "<re.Match object; span=(0, 1), match='9'>\n",
      "<re.Match object; span=(1, 2), match='5'>\n",
      "<re.Match object; span=(2, 3), match='7'>\n",
      "<re.Match object; span=(3, 4), match='-'>\n",
      "<re.Match object; span=(4, 5), match='2'>\n",
      "<re.Match object; span=(5, 6), match='0'>\n",
      "<re.Match object; span=(6, 7), match='5'>\n",
      "<re.Match object; span=(7, 8), match='-'>\n",
      "<re.Match object; span=(8, 9), match='3'>\n",
      "<re.Match object; span=(9, 10), match='9'>\n",
      "<re.Match object; span=(10, 11), match='2'>\n",
      "<re.Match object; span=(11, 12), match='1'>\n",
      "<re.Match object; span=(13, 14), match='8'>\n",
      "<re.Match object; span=(14, 15), match='9'>\n",
      "<re.Match object; span=(15, 16), match='7'>\n",
      "<re.Match object; span=(16, 17), match='.'>\n",
      "<re.Match object; span=(17, 18), match='4'>\n",
      "<re.Match object; span=(18, 19), match='2'>\n",
      "<re.Match object; span=(19, 20), match='7'>\n",
      "<re.Match object; span=(20, 21), match='.'>\n",
      "<re.Match object; span=(21, 22), match='6'>\n",
      "<re.Match object; span=(22, 23), match='7'>\n",
      "<re.Match object; span=(23, 24), match='2'>\n",
      "<re.Match object; span=(24, 25), match='1'>\n",
      "<re.Match object; span=(26, 27), match='4'>\n",
      "<re.Match object; span=(27, 28), match='6'>\n",
      "<re.Match object; span=(28, 29), match='5'>\n",
      "<re.Match object; span=(29, 30), match='-'>\n",
      "<re.Match object; span=(30, 31), match='4'>\n",
      "<re.Match object; span=(31, 32), match='6'>\n",
      "<re.Match object; span=(32, 33), match='5'>\n",
      "<re.Match object; span=(33, 34), match='-'>\n",
      "<re.Match object; span=(34, 35), match='7'>\n",
      "<re.Match object; span=(35, 36), match='8'>\n",
      "<re.Match object; span=(36, 37), match='6'>\n",
      "<re.Match object; span=(37, 38), match='1'>\n",
      "<re.Match object; span=(39, 40), match='a'>\n",
      "<re.Match object; span=(40, 41), match='b'>\n",
      "<re.Match object; span=(41, 42), match='c'>\n",
      "<re.Match object; span=(42, 43), match='d'>\n",
      "<re.Match object; span=(43, 44), match='e'>\n",
      "<re.Match object; span=(44, 45), match='f'>\n",
      "<re.Match object; span=(45, 46), match='g'>\n",
      "<re.Match object; span=(46, 47), match='h'>\n",
      "<re.Match object; span=(47, 48), match='i'>\n",
      "<re.Match object; span=(48, 49), match='j'>\n",
      "<re.Match object; span=(49, 50), match='k'>\n",
      "<re.Match object; span=(50, 51), match='l'>\n",
      "<re.Match object; span=(51, 52), match='m'>\n",
      "<re.Match object; span=(52, 53), match='n'>\n",
      "<re.Match object; span=(53, 54), match='o'>\n",
      "<re.Match object; span=(54, 55), match='p'>\n",
      "<re.Match object; span=(55, 56), match='q'>\n",
      "<re.Match object; span=(56, 57), match='r'>\n",
      "<re.Match object; span=(57, 58), match='s'>\n",
      "<re.Match object; span=(58, 59), match='t'>\n",
      "<re.Match object; span=(59, 60), match='u'>\n",
      "<re.Match object; span=(60, 61), match='v'>\n",
      "<re.Match object; span=(61, 62), match='w'>\n",
      "<re.Match object; span=(62, 63), match='x'>\n",
      "<re.Match object; span=(63, 64), match='y'>\n",
      "<re.Match object; span=(64, 65), match='z'>\n",
      "<re.Match object; span=(66, 67), match='A'>\n",
      "<re.Match object; span=(67, 68), match='B'>\n",
      "<re.Match object; span=(68, 69), match='C'>\n",
      "<re.Match object; span=(69, 70), match='D'>\n",
      "<re.Match object; span=(70, 71), match='E'>\n",
      "<re.Match object; span=(71, 72), match='F'>\n",
      "<re.Match object; span=(72, 73), match='G'>\n",
      "<re.Match object; span=(73, 74), match='H'>\n",
      "<re.Match object; span=(74, 75), match='I'>\n",
      "<re.Match object; span=(75, 76), match='J'>\n",
      "<re.Match object; span=(76, 77), match='K'>\n",
      "<re.Match object; span=(77, 78), match='L'>\n",
      "<re.Match object; span=(78, 79), match='M'>\n",
      "<re.Match object; span=(79, 80), match='N'>\n",
      "<re.Match object; span=(80, 81), match='O'>\n",
      "<re.Match object; span=(81, 82), match='P'>\n",
      "<re.Match object; span=(82, 83), match='Q'>\n",
      "<re.Match object; span=(83, 84), match='R'>\n",
      "<re.Match object; span=(84, 85), match='S'>\n",
      "<re.Match object; span=(85, 86), match='T'>\n",
      "<re.Match object; span=(86, 87), match='U'>\n",
      "<re.Match object; span=(87, 88), match='V'>\n",
      "<re.Match object; span=(88, 89), match='W'>\n",
      "<re.Match object; span=(89, 90), match='X'>\n",
      "<re.Match object; span=(90, 91), match='Y'>\n",
      "<re.Match object; span=(91, 92), match='Z'>\n",
      "<re.Match object; span=(93, 94), match='1'>\n",
      "<re.Match object; span=(94, 95), match='2'>\n",
      "<re.Match object; span=(95, 96), match='3'>\n",
      "<re.Match object; span=(96, 97), match='4'>\n",
      "<re.Match object; span=(97, 98), match='5'>\n",
      "<re.Match object; span=(98, 99), match='6'>\n",
      "<re.Match object; span=(99, 100), match='7'>\n",
      "<re.Match object; span=(100, 101), match='8'>\n",
      "<re.Match object; span=(101, 102), match='9'>\n",
      "<re.Match object; span=(102, 103), match='0'>\n",
      "<re.Match object; span=(104, 105), match='h'>\n",
      "<re.Match object; span=(105, 106), match='e'>\n",
      "<re.Match object; span=(106, 107), match='d'>\n",
      "<re.Match object; span=(107, 108), match='g'>\n",
      "<re.Match object; span=(108, 109), match='e'>\n",
      "<re.Match object; span=(110, 111), match='h'>\n",
      "<re.Match object; span=(111, 112), match='e'>\n",
      "<re.Match object; span=(112, 113), match='l'>\n",
      "<re.Match object; span=(113, 114), match='l'>\n",
      "<re.Match object; span=(115, 116), match='h'>\n",
      "<re.Match object; span=(116, 117), match='e'>\n",
      "<re.Match object; span=(117, 118), match='l'>\n",
      "<re.Match object; span=(118, 119), match='l'>\n",
      "<re.Match object; span=(119, 120), match='o'>\n",
      "<re.Match object; span=(121, 122), match='o'>\n",
      "<re.Match object; span=(122, 123), match='l'>\n",
      "<re.Match object; span=(123, 124), match='l'>\n",
      "<re.Match object; span=(124, 125), match='h'>\n",
      "<re.Match object; span=(125, 126), match='e'>\n",
      "<re.Match object; span=(127, 128), match='m'>\n",
      "<re.Match object; span=(128, 129), match='d'>\n",
      "<re.Match object; span=(129, 130), match='t'>\n",
      "<re.Match object; span=(130, 131), match='a'>\n",
      "<re.Match object; span=(131, 132), match='u'>\n",
      "<re.Match object; span=(132, 133), match='7'>\n",
      "<re.Match object; span=(133, 134), match='8'>\n",
      "<re.Match object; span=(134, 135), match='6'>\n",
      "<re.Match object; span=(135, 136), match='@'>\n",
      "<re.Match object; span=(136, 137), match='g'>\n",
      "<re.Match object; span=(137, 138), match='m'>\n",
      "<re.Match object; span=(138, 139), match='a'>\n",
      "<re.Match object; span=(139, 140), match='i'>\n",
      "<re.Match object; span=(140, 141), match='l'>\n",
      "<re.Match object; span=(141, 142), match='.'>\n",
      "<re.Match object; span=(142, 143), match='c'>\n",
      "<re.Match object; span=(143, 144), match='o'>\n",
      "<re.Match object; span=(144, 145), match='m'>\n"
     ]
    }
   ],
   "source": [
    "#Other than tabs ,newline,space\n",
    "pattern_8=re.compile(r'\\S') \n",
    "for match in pattern_8.finditer(text):\n",
    "      print(match)"
   ]
  },
  {
   "cell_type": "code",
   "execution_count": 11,
   "metadata": {},
   "outputs": [
    {
     "name": "stdout",
     "output_type": "stream",
     "text": [
      "<re.Match object; span=(104, 106), match='he'>\n",
      "<re.Match object; span=(110, 112), match='he'>\n",
      "<re.Match object; span=(115, 117), match='he'>\n"
     ]
    }
   ],
   "source": [
    "#word boundary searching for anything that contain he at the beginiing --> \\b\n",
    "pattern_9=re.compile(r'\\bhe') \n",
    "for match in pattern_9.finditer(text):\n",
    "      print(match)"
   ]
  },
  {
   "cell_type": "code",
   "execution_count": 12,
   "metadata": {},
   "outputs": [
    {
     "name": "stdout",
     "output_type": "stream",
     "text": [
      "<re.Match object; span=(124, 126), match='he'>\n"
     ]
    }
   ],
   "source": [
    "#word boundary searching for anything that doesn't contain he at the begining --> \\B\n",
    "pattern_10=re.compile(r'\\Bhe') \n",
    "for match in pattern_10.finditer(text):      \n",
    "    print(match)"
   ]
  },
  {
   "cell_type": "code",
   "execution_count": 13,
   "metadata": {},
   "outputs": [
    {
     "name": "stdout",
     "output_type": "stream",
     "text": [
      "<re.Match object; span=(9, 11), match='he'>\n",
      "<re.Match object; span=(25, 27), match='he'>\n",
      "<re.Match object; span=(64, 66), match='he'>\n"
     ]
    }
   ],
   "source": [
    "#Example of chosing the first character or start ,carret--> ^\n",
    "new_text='''This is the begining of the re we have to studied more to get \n",
    "the better picture'''\n",
    "pattern_11=re.compile(r'^the') \n",
    "for match in pattern_10.finditer(new_text):      \n",
    "    print(match)"
   ]
  },
  {
   "cell_type": "code",
   "execution_count": 14,
   "metadata": {},
   "outputs": [
    {
     "name": "stdout",
     "output_type": "stream",
     "text": [
      "<re.Match object; span=(77, 81), match='ture'>\n"
     ]
    }
   ],
   "source": [
    "#Example of chosing the last character or word ,end ,carret--> $\n",
    "pattern_11=re.compile(r'ture$') \n",
    "for match in pattern_11.finditer(new_text):      \n",
    "    print(match)"
   ]
  },
  {
   "cell_type": "code",
   "execution_count": 15,
   "metadata": {},
   "outputs": [
    {
     "name": "stdout",
     "output_type": "stream",
     "text": [
      "<re.Match object; span=(1, 4), match='57-'>\n",
      "<re.Match object; span=(5, 8), match='05-'>\n",
      "<re.Match object; span=(14, 17), match='97.'>\n",
      "<re.Match object; span=(18, 21), match='27.'>\n",
      "<re.Match object; span=(27, 30), match='65-'>\n",
      "<re.Match object; span=(31, 34), match='65-'>\n"
     ]
    }
   ],
   "source": [
    "# this will find out digits having minimum 1 and maximum 2 character with contains .,-\n",
    "pattern_13=re.compile(r'\\d{1,2}[.-]')\n",
    "for match in pattern_13.finditer(text):\n",
    "      print(match)"
   ]
  },
  {
   "cell_type": "code",
   "execution_count": 16,
   "metadata": {},
   "outputs": [
    {
     "name": "stdout",
     "output_type": "stream",
     "text": [
      "<re.Match object; span=(0, 12), match='957-205-3921'>\n",
      "<re.Match object; span=(13, 25), match='897.427.6721'>\n",
      "<re.Match object; span=(26, 38), match='465-465-7861'>\n"
     ]
    }
   ],
   "source": [
    "#this will find out the entire digits that contan .,-\n",
    "pattern_12=re.compile(r'\\d{3}[.-]\\d{3}[.-]\\d{4}')\n",
    "for match in pattern_12.finditer(text):\n",
    "      print(match)"
   ]
  },
  {
   "cell_type": "code",
   "execution_count": 17,
   "metadata": {},
   "outputs": [],
   "source": [
    "text='''557-205-3921\n",
    "897.427.6721\n",
    "465-465-7861\n",
    "950-205-3921\n",
    "850-205-3921\n",
    "750-205-3921\n",
    "750-205-3921\n",
    "abcdefghijklmnopqrstuvwxyz\n",
    "ABCDEFGHIJKLMNOPQRSTUVWXYZ\n",
    "1234567890\n",
    "hedge hell hello ollhe\n",
    "mdtau786@gmail.com\n",
    "\n",
    "Mr. Tausif\n",
    "Mr Ravi\n",
    "Mrs Lata\n",
    "Mrs. Gita\n",
    "Mr P\n",
    "Mr. T\n",
    "\n",
    "'''"
   ]
  },
  {
   "cell_type": "code",
   "execution_count": 18,
   "metadata": {},
   "outputs": [
    {
     "name": "stdout",
     "output_type": "stream",
     "text": [
      "<re.Match object; span=(39, 51), match='950-205-3921'>\n",
      "<re.Match object; span=(52, 64), match='850-205-3921'>\n",
      "<re.Match object; span=(65, 77), match='750-205-3921'>\n",
      "<re.Match object; span=(78, 90), match='750-205-3921'>\n"
     ]
    }
   ],
   "source": [
    "#Matches the pattern that contains 7 or 8 or 9 at the begining and 50 consecutively\n",
    "pattern_14=re.compile(r'[789]50[.-]\\d{3}[.-]\\d{4}')\n",
    "for match in pattern_14.finditer(text):\n",
    "      print(match)"
   ]
  },
  {
   "cell_type": "code",
   "execution_count": 19,
   "metadata": {},
   "outputs": [
    {
     "name": "stdout",
     "output_type": "stream",
     "text": [
      "<re.Match object; span=(0, 12), match='557-205-3921'>\n",
      "<re.Match object; span=(26, 38), match='465-465-7861'>\n"
     ]
    }
   ],
   "source": [
    "#Matches the pattern that doesn't contain 7 or 8 or 9 at the begining [^] will do totally reverse\n",
    "pattern_15=re.compile(r'[^789]\\d{2}[.-]\\d{3}[.-]\\d{4}')\n",
    "for match in pattern_15.finditer(text):\n",
    "      print(match)"
   ]
  },
  {
   "cell_type": "markdown",
   "metadata": {},
   "source": [
    "# Quantifiers\n",
    "\n",
    "<p>*  --> Zero or more character </p>\n",
    "    <p> + --> atleast one character</p>\n",
    "        <p>? --> one or zero character</p>\n",
    "            <p>{} --> range</p>\n",
    "                <p>( ) -->grouping the character</p>\n",
    "                    <p>| -->or</p>"
   ]
  },
  {
   "cell_type": "code",
   "execution_count": 20,
   "metadata": {},
   "outputs": [
    {
     "name": "stdout",
     "output_type": "stream",
     "text": [
      "<re.Match object; span=(199, 202), match='Mr.'>\n",
      "<re.Match object; span=(242, 245), match='Mr.'>\n"
     ]
    }
   ],
   "source": [
    "#Here it matches only Mr. but Mr\n",
    "pattern_16=re.compile(r'Mr\\.')\n",
    "for match in pattern_16.finditer(text):\n",
    "      print(match)"
   ]
  },
  {
   "cell_type": "code",
   "execution_count": 21,
   "metadata": {},
   "outputs": [
    {
     "name": "stdout",
     "output_type": "stream",
     "text": [
      "<re.Match object; span=(199, 202), match='Mr.'>\n",
      "<re.Match object; span=(210, 212), match='Mr'>\n",
      "<re.Match object; span=(218, 220), match='Mr'>\n",
      "<re.Match object; span=(227, 229), match='Mr'>\n",
      "<re.Match object; span=(237, 239), match='Mr'>\n",
      "<re.Match object; span=(242, 245), match='Mr.'>\n"
     ]
    }
   ],
   "source": [
    "#after putting ? now it matches all the Mr\n",
    "pattern_16=re.compile(r'Mr\\.?')\n",
    "for match in pattern_16.finditer(text):\n",
    "      print(match)"
   ]
  },
  {
   "cell_type": "code",
   "execution_count": 22,
   "metadata": {},
   "outputs": [
    {
     "name": "stdout",
     "output_type": "stream",
     "text": [
      "<re.Match object; span=(199, 204), match='Mr. T'>\n",
      "<re.Match object; span=(210, 214), match='Mr R'>\n",
      "<re.Match object; span=(237, 241), match='Mr P'>\n",
      "<re.Match object; span=(242, 247), match='Mr. T'>\n"
     ]
    }
   ],
   "source": [
    "# Name with first charcter capital use of  ----> ?\n",
    "pattern_16=re.compile(r'Mr\\.?\\s[A-Z]')\n",
    "for match in pattern_16.finditer(text):\n",
    "      print(match)"
   ]
  },
  {
   "cell_type": "code",
   "execution_count": 23,
   "metadata": {},
   "outputs": [
    {
     "name": "stdout",
     "output_type": "stream",
     "text": [
      "<re.Match object; span=(199, 209), match='Mr. Tausif'>\n",
      "<re.Match object; span=(210, 217), match='Mr Ravi'>\n"
     ]
    }
   ],
   "source": [
    "#It matches only the word character that has more than character use of  ----> +\n",
    "pattern_16=re.compile(r'Mr\\.?\\s[A-Z]\\w+')\n",
    "for match in pattern_16.finditer(text):\n",
    "      print(match)"
   ]
  },
  {
   "cell_type": "code",
   "execution_count": 24,
   "metadata": {},
   "outputs": [
    {
     "name": "stdout",
     "output_type": "stream",
     "text": [
      "<re.Match object; span=(199, 209), match='Mr. Tausif'>\n",
      "<re.Match object; span=(210, 217), match='Mr Ravi'>\n",
      "<re.Match object; span=(237, 241), match='Mr P'>\n",
      "<re.Match object; span=(242, 247), match='Mr. T'>\n"
     ]
    }
   ],
   "source": [
    "#Now it is matching those who don't have more than one character use of ----> *\n",
    "pattern_16=re.compile(r'Mr\\.?\\s[A-Z]\\w*')\n",
    "for match in pattern_16.finditer(text):\n",
    "      print(match)"
   ]
  },
  {
   "cell_type": "code",
   "execution_count": 25,
   "metadata": {
    "scrolled": true
   },
   "outputs": [
    {
     "name": "stdout",
     "output_type": "stream",
     "text": [
      "<re.Match object; span=(199, 209), match='Mr. Tausif'>\n",
      "<re.Match object; span=(210, 217), match='Mr Ravi'>\n",
      "<re.Match object; span=(218, 226), match='Mrs Lata'>\n",
      "<re.Match object; span=(227, 236), match='Mrs. Gita'>\n",
      "<re.Match object; span=(237, 241), match='Mr P'>\n",
      "<re.Match object; span=(242, 247), match='Mr. T'>\n"
     ]
    }
   ],
   "source": [
    "#Now it is matching all the required result use of ----> () and |\n",
    "pattern_16=re.compile(r'M(r|rs)\\.?\\s[A-Z]\\w*')\n",
    "for match in pattern_16.finditer(text):\n",
    "      print(match)"
   ]
  },
  {
   "cell_type": "code",
   "execution_count": 26,
   "metadata": {},
   "outputs": [],
   "source": [
    "email='''\n",
    "mdtau786@gmail.com\n",
    "mdtatau.6@gmail.com\n",
    "mdt-tausif600@gmail.com\n",
    "mdt_tau_@mail.com\n",
    "\n",
    "'''"
   ]
  },
  {
   "cell_type": "code",
   "execution_count": 27,
   "metadata": {},
   "outputs": [
    {
     "name": "stdout",
     "output_type": "stream",
     "text": [
      "<re.Match object; span=(2, 19), match='dtau786@gmail.com'>\n",
      "<re.Match object; span=(20, 39), match='mdtatau.6@gmail.com'>\n",
      "<re.Match object; span=(40, 63), match='mdt-tausif600@gmail.com'>\n",
      "<re.Match object; span=(64, 81), match='mdt_tau_@mail.com'>\n"
     ]
    }
   ],
   "source": [
    "pattern=re.compile(r'[a-zA-Z0-9](.|-|_)*@[a-zA-Z]*\\.?\\w*')     #r'\\w(.|-|_)*@\\w*\\.?\\w* is same as we are doing\n",
    "for match in pattern.finditer(email,re.I):\n",
    "    print(match)"
   ]
  },
  {
   "cell_type": "code",
   "execution_count": 28,
   "metadata": {},
   "outputs": [],
   "source": [
    "url='''\n",
    "Https://www.coursera.com\n",
    "http://www.facebook.com\n",
    "https://www.tau-coding.com\n",
    "https://www.freak9.com\n",
    "\n",
    "\n",
    "'''"
   ]
  },
  {
   "cell_type": "markdown",
   "metadata": {},
   "source": [
    "# Flags\n",
    "<p>re.I re.IGNORECASE\tMakes matching of alphabetic characters case-insensitive</p>\n",
    "<p>re.M\tre.MULTILINE\tCauses start-of-string and end-of-string anchors to match embedded newlines<p>\n",
    "<p>re.S\tre.DOTALL\tCauses the dot metacharacter to match a newline</p>\n",
    "<p>re.X\tre.VERBOSE\tAllows inclusion of whitespace and comments within a regular expression</p>\n",
    "<p>----\tre.DEBUG\tCauses the regex parser to display debugging information to the console</p>\n",
    "<p>re.A\tre.ASCII\tSpecifies ASCII encoding for character classification</p>\n",
    "<p>re.U\tre.UNICODE\tSpecifies Unicode encoding for character classification</p>\n",
    "<p>re.L    re.LOCALE\tSpecifies encoding for character classification based on the current locale</p>"
   ]
  },
  {
   "cell_type": "code",
   "execution_count": 29,
   "metadata": {},
   "outputs": [
    {
     "name": "stdout",
     "output_type": "stream",
     "text": [
      "<re.Match object; span=(1, 25), match='Https://www.coursera.com'>\n",
      "<re.Match object; span=(26, 49), match='http://www.facebook.com'>\n",
      "<re.Match object; span=(50, 76), match='https://www.tau-coding.com'>\n",
      "<re.Match object; span=(77, 99), match='https://www.freak9.com'>\n"
     ]
    }
   ],
   "source": [
    "#see re.I ignoring the capital letters in https\n",
    "pattern_u=re.compile(r'https?://[a-z].?[a-zA-z].*',re.I)\n",
    "for match in pattern_u.finditer(url):\n",
    "    print(match)"
   ]
  },
  {
   "cell_type": "markdown",
   "metadata": {},
   "source": [
    "# Substituting the string with desired output"
   ]
  },
  {
   "cell_type": "code",
   "execution_count": 30,
   "metadata": {},
   "outputs": [
    {
     "data": {
      "text/plain": [
       "'\\nHttps://www.coursera.com\\nhttps://www.?[a-zA-z].*\\nhttps://www.tau-coding.com\\nhttps://www.freak9.com\\n\\n\\n'"
      ]
     },
     "execution_count": 30,
     "metadata": {},
     "output_type": "execute_result"
    }
   ],
   "source": [
    "subs=re.sub('http?://www.?[a-zA-z].*','https://www.?[a-zA-z].*',url)\n",
    "subs"
   ]
  },
  {
   "cell_type": "code",
   "execution_count": 31,
   "metadata": {
    "scrolled": true
   },
   "outputs": [
    {
     "data": {
      "text/plain": [
       "'\\n'"
      ]
     },
     "execution_count": 31,
     "metadata": {},
     "output_type": "execute_result"
    }
   ],
   "source": [
    "next(filter(None,subs))"
   ]
  },
  {
   "cell_type": "code",
   "execution_count": 32,
   "metadata": {},
   "outputs": [],
   "source": [
    "filt='''\\n https://www.coursera.com \\n \\n\n",
    "https://www.tau-coding.com \\n\n",
    "https://www.freak9.com \\n\\n\\n\n",
    "'''"
   ]
  },
  {
   "cell_type": "code",
   "execution_count": 33,
   "metadata": {
    "scrolled": true
   },
   "outputs": [
    {
     "data": {
      "text/plain": [
       "'  https:// coursera.com     https:// tau-coding.com   https:// freak9.com     '"
      ]
     },
     "execution_count": 33,
     "metadata": {},
     "output_type": "execute_result"
    }
   ],
   "source": [
    "re.sub('(www.|\\n)',' ',filt)"
   ]
  },
  {
   "cell_type": "code",
   "execution_count": 34,
   "metadata": {},
   "outputs": [],
   "source": [
    "para='''\n",
    "Probably the most effective way to achieve paragraph unity is to express the central idea of the paragraph in a topic sentence.\n",
    "\n",
    "Topic sentences are similar to mini thesis statements. Like a thesis statement, a topic sentence has a specific main point. Whereas the thesis is the main point of the essay, the topic sentence is the main point of the paragraph. Like the thesis statement, a topic sentence has a unifying function. But a thesis statement or topic sentence alone doesn’t guarantee unity. An essay is unified if all the paragraphs relate to the thesis, whereas a paragraph is unified if all the sentences relate to the topic sentence. Note: Not all paragraphs need topic sentences. In particular, opening and closing paragraphs, which serve different functions from body paragraphs, generally don’t have topic sentences.\n",
    "\n",
    "In academic writing, the topic sentence nearly always works best at the beginning of a paragraph so that the reader knows what to expect:\n",
    "\n",
    "'''"
   ]
  },
  {
   "cell_type": "code",
   "execution_count": 35,
   "metadata": {},
   "outputs": [
    {
     "name": "stdout",
     "output_type": "stream",
     "text": [
      "probably the most effective way to achieve paragraph unity is to express the central idea of the paragraph in a topic sentencetopic sentences are similar to mini thesis statements like a thesis statement a topic sentence has a specific main point whereas the thesis is the main point of the essay the topic sentence is the main point of the paragraph like the thesis statement a topic sentence has a unifying function but a thesis statement or topic sentence alone doesn’t guarantee unity an essay is unified if all the paragraphs relate to the thesis whereas a paragraph is unified if all the sentences relate to the topic sentence note not all paragraphs need topic sentences in particular opening and closing paragraphs which serve different functions from body paragraphs generally don’t have topic sentencesin academic writing the topic sentence nearly always works best at the beginning of a paragraph so that the reader knows what to expect\n"
     ]
    }
   ],
   "source": [
    "print(re.sub('(\\.|\\,|\\:|\\n)','',para).lower())"
   ]
  },
  {
   "cell_type": "code",
   "execution_count": null,
   "metadata": {},
   "outputs": [],
   "source": []
  }
 ],
 "metadata": {
  "kernelspec": {
   "display_name": "Python 3",
   "language": "python",
   "name": "python3"
  },
  "language_info": {
   "codemirror_mode": {
    "name": "ipython",
    "version": 3
   },
   "file_extension": ".py",
   "mimetype": "text/x-python",
   "name": "python",
   "nbconvert_exporter": "python",
   "pygments_lexer": "ipython3",
   "version": "3.7.9"
  }
 },
 "nbformat": 4,
 "nbformat_minor": 4
}
